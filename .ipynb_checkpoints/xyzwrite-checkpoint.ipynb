{
 "cells": [
  {
   "cell_type": "code",
   "execution_count": 10,
   "metadata": {},
   "outputs": [
    {
     "name": "stdin",
     "output_type": "stream",
     "text": [
      " hydrogen_peroxide\n"
     ]
    },
    {
     "name": "stdout",
     "output_type": "stream",
     "text": [
      "hydrogen_peroxide\n",
      "/Users/rwhitnel/Downloads/hydrogen_peroxide.out\n"
     ]
    }
   ],
   "source": [
    "import os\n",
    "molecule_name = input()\n",
    "print(molecule_name)\n",
    "filename = molecule_name + '.out'\n",
    "molecule_file = os.path.join('/Users/rwhitnel/Downloads', filename)\n",
    "print(molecule_file)\n"
   ]
  },
  {
   "cell_type": "code",
   "execution_count": 11,
   "metadata": {},
   "outputs": [
    {
     "name": "stdout",
     "output_type": "stream",
     "text": [
      "8738\n"
     ]
    }
   ],
   "source": [
    "outfile = open(molecule_file, 'r')\n",
    "data = outfile.readlines()\n",
    "outfile.close()\n",
    "print(len(data))"
   ]
  },
  {
   "cell_type": "code",
   "execution_count": 12,
   "metadata": {},
   "outputs": [
    {
     "name": "stdout",
     "output_type": "stream",
     "text": [
      "4\n"
     ]
    }
   ],
   "source": [
    "for line in data:\n",
    "    if 'TOTAL NUMBER OF ATOMS' in line:\n",
    "        natoms = int(line.split()[5])\n",
    "        print(natoms)\n",
    "        break"
   ]
  },
  {
   "cell_type": "code",
   "execution_count": 13,
   "metadata": {},
   "outputs": [
    {
     "name": "stdout",
     "output_type": "stream",
     "text": [
      "[['O', 8.0, 0.6996107665, 0.308765817, -0.343296366], ['O', 8.0, -0.5826957478, 0.2450906617, 0.3433112554], ['H', 1.0, 1.2075808839, 0.8278162463, 0.3055943944], ['H', 1.0, -1.1395759026, 0.711287275, -0.3055592837]]\n"
     ]
    }
   ],
   "source": [
    "for linenum, line in enumerate(data):\n",
    "    if 'EQUILIBRIUM' in line: \n",
    "        start = linenum + 4\n",
    "        break\n",
    "atomcoords = []        \n",
    "for atom in range(start, start+natoms):\n",
    "    atomdata = data[atom].split()\n",
    "    \n",
    "    atomcoords.append([atomdata[0], float(atomdata[1]), float(atomdata[2]), float(atomdata[3]),float(atomdata[4])])\n",
    "    \n",
    "print (atomcoords)\n",
    "            "
   ]
  },
  {
   "cell_type": "code",
   "execution_count": 14,
   "metadata": {},
   "outputs": [],
   "source": [
    "for linenum, line in enumerate(data):\n",
    "    if 'FREQUENCIES' in line: \n",
    "        start = linenum + 4\n",
    "        break\n",
    " \n",
    "nfreq = 3 * natoms\n",
    "nbatches = nfreq // 5\n",
    "nextra = nfreq % 5\n",
    "frequencies = []\n",
    "freqcoords = []\n",
    "freqcount = 0\n",
    "\n",
    "for ifreq in range(0, nfreq):\n",
    "    freqcoords.append([])\n",
    "    iatom = 0\n",
    "    while iatom < natoms:\n",
    "\n",
    "        freqcoords[ifreq].append({})\n",
    "        iatom = iatom + 1\n",
    "freqcount = 0\n",
    "for ibatch in range(0, nbatches + 1):\n",
    "    freqstart = start + ibatch * (nfreq + 17)\n",
    "    freqdata = data[freqstart].split()\n",
    "    freqcoordstart = freqstart + 5\n",
    "    \n",
    "    for ifreq in range(1, len(freqdata)):\n",
    "        frequencies.append(freqdata[ifreq])\n",
    "        \n",
    "    for ifreq in range(0, len(freqdata) - 1):\n",
    "        for iatom in range(0, natoms):\n",
    "            coordx = data[freqcoordstart + 3 * iatom].split()\n",
    "            coordy = data[freqcoordstart + + 3 * iatom + 1].split()\n",
    "            coordz = data[freqcoordstart + + 3 * iatom + 2].split()  \n",
    "#            print(freqcount, ifreq, iatom, 3+ifreq)\n",
    "            freqcoords[freqcount + ifreq][iatom]['x'] = float(coordx[3+ifreq])\n",
    "            freqcoords[freqcount + ifreq][iatom]['y'] = float(coordy[1+ifreq])\n",
    "            freqcoords[freqcount + ifreq][iatom]['z'] = float(coordz[1+ifreq])\n",
    "\n",
    "    freqcount += len(freqdata)-1\n",
    "    \n",
    " \n",
    "   \n",
    "       \n",
    "\n",
    "        \n",
    "\n",
    "    \n",
    "        "
   ]
  },
  {
   "cell_type": "code",
   "execution_count": 17,
   "metadata": {},
   "outputs": [],
   "source": [
    "output = molecule_name + 'vib.xyz'\n",
    "moleculeoutname=os.path.join('/Users/rwhitnel/Downloads', output)\n",
    "moleculewritefile = open(moleculeoutname, 'w')\n",
    "for ifreq in range(0, nfreq):\n",
    "    moleculewritefile.write(F'{natoms}\\n')\n",
    "    moleculewritefile.write(F'{molecule_name}\\tFrequency:\\t{frequencies[ifreq]}\\n')\n",
    "    for iatom in range(0, natoms):\n",
    "        moleculewritefile.write(F'{atomcoords[iatom][0]}\\t{atomcoords[iatom][2]}\\t{atomcoords[iatom][3]}\\t{atomcoords[iatom][4]}\\t')\n",
    "        moleculewritefile.write(F\"{freqcoords[ifreq][iatom]['x']}\\t{freqcoords[ifreq][iatom]['y']}\\t{freqcoords[ifreq][iatom]['z']}\\n\")\n",
    "       # moleculewritefile.write(str(freqcoords[ifreq][iatom]['x']))\n",
    "       # moleculewritefile.write(\"\\n\")\n",
    "moleculewritefile.close()\n"
   ]
  },
  {
   "cell_type": "code",
   "execution_count": null,
   "metadata": {},
   "outputs": [],
   "source": []
  }
 ],
 "metadata": {
  "kernelspec": {
   "display_name": "Python 3",
   "language": "python",
   "name": "python3"
  },
  "language_info": {
   "codemirror_mode": {
    "name": "ipython",
    "version": 3
   },
   "file_extension": ".py",
   "mimetype": "text/x-python",
   "name": "python",
   "nbconvert_exporter": "python",
   "pygments_lexer": "ipython3",
   "version": "3.7.6"
  }
 },
 "nbformat": 4,
 "nbformat_minor": 4
}
