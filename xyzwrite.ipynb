{
 "cells": [
  {
   "cell_type": "code",
   "execution_count": 130,
   "metadata": {},
   "outputs": [
    {
     "name": "stdin",
     "output_type": "stream",
     "text": [
      " ammonia\n"
     ]
    },
    {
     "name": "stdout",
     "output_type": "stream",
     "text": [
      "ammonia\n",
      "Downloads/ammonia.out\n"
     ]
    }
   ],
   "source": [
    "import os\n",
    "molecule_name = input()\n",
    "print(molecule_name)\n",
    "filename = molecule_name + '.out'\n",
    "molecule_file = os.path.join('Downloads', filename)\n",
    "print(molecule_file)\n"
   ]
  },
  {
   "cell_type": "code",
   "execution_count": 131,
   "metadata": {},
   "outputs": [
    {
     "name": "stdout",
     "output_type": "stream",
     "text": [
      "3330\n"
     ]
    }
   ],
   "source": [
    "outfile = open(molecule_file, 'r')\n",
    "data = outfile.readlines()\n",
    "outfile.close()\n",
    "print(len(data))"
   ]
  },
  {
   "cell_type": "code",
   "execution_count": 132,
   "metadata": {},
   "outputs": [
    {
     "name": "stdout",
     "output_type": "stream",
     "text": [
      "4\n"
     ]
    }
   ],
   "source": [
    "for line in data:\n",
    "    if 'TOTAL NUMBER OF ATOMS' in line:\n",
    "        natoms = int(line.split()[5])\n",
    "        print(natoms)\n",
    "        break"
   ]
  },
  {
   "cell_type": "code",
   "execution_count": 133,
   "metadata": {},
   "outputs": [
    {
     "name": "stdout",
     "output_type": "stream",
     "text": [
      "[['N', 7.0, -5.54458e-05, -5.38524e-05, 0.0833981774], ['H', 1.0, -0.0125425073, -0.9387836693, -0.3146989172], ['H', 1.0, 0.8190727799, 0.4584711217, -0.3148589375], ['H', 1.0, -0.8067748268, 0.4800964, -0.3147303227]]\n"
     ]
    }
   ],
   "source": [
    "for linenum, line in enumerate(data):\n",
    "    if 'EQUILIBRIUM' in line: \n",
    "        start = linenum + 4\n",
    "        break\n",
    "atomcoords = []        \n",
    "for atom in range(start, start+natoms):\n",
    "    atomdata = data[atom].split()\n",
    "    \n",
    "    atomcoords.append([atomdata[0], float(atomdata[1]), float(atomdata[2]), float(atomdata[3]),float(atomdata[4])])\n",
    "    \n",
    "print (atomcoords)\n",
    "            "
   ]
  },
  {
   "cell_type": "code",
   "execution_count": 134,
   "metadata": {},
   "outputs": [],
   "source": [
    "for linenum, line in enumerate(data):\n",
    "    if 'FREQUENCIES' in line: \n",
    "        start = linenum + 4\n",
    "        break\n",
    " \n",
    "nfreq = 3 * natoms\n",
    "nbatches = nfreq // 5\n",
    "nextra = nfreq % 5\n",
    "frequencies = []\n",
    "freqcoords = []\n",
    "freqcount = 0\n",
    "\n",
    "for ifreq in range(0, nfreq):\n",
    "    freqcoords.append([])\n",
    "    iatom = 0\n",
    "    while iatom < natoms:\n",
    "\n",
    "        freqcoords[ifreq].append({})\n",
    "        iatom = iatom + 1\n",
    "freqcount = 0\n",
    "for ibatch in range(0, nbatches + 1):\n",
    "    freqstart = start + ibatch * (nfreq + 17)\n",
    "    freqdata = data[freqstart].split()\n",
    "    freqcoordstart = freqstart + 5\n",
    "    \n",
    "    for ifreq in range(1, len(freqdata)):\n",
    "        frequencies.append(freqdata[ifreq])\n",
    "        \n",
    "    for ifreq in range(0, len(freqdata) - 1):\n",
    "        for iatom in range(0, natoms):\n",
    "            coordx = data[freqcoordstart + 3 * iatom].split()\n",
    "            coordy = data[freqcoordstart + + 3 * iatom + 1].split()\n",
    "            coordz = data[freqcoordstart + + 3 * iatom + 2].split()  \n",
    "#            print(freqcount, ifreq, iatom, 3+ifreq)\n",
    "            freqcoords[freqcount + ifreq][iatom]['x'] = float(coordx[3+ifreq])\n",
    "            freqcoords[freqcount + ifreq][iatom]['y'] = float(coordy[1+ifreq])\n",
    "            freqcoords[freqcount + ifreq][iatom]['z'] = float(coordz[1+ifreq])\n",
    "\n",
    "    freqcount += len(freqdata)-1\n",
    "    \n",
    " \n",
    "   \n",
    "       \n",
    "\n",
    "        \n",
    "\n",
    "    \n",
    "        "
   ]
  },
  {
   "cell_type": "code",
   "execution_count": 135,
   "metadata": {},
   "outputs": [],
   "source": [
    "output = molecule_name + 'vib.xyz'\n",
    "moleculeoutname=os.path.join('Downloads', output)\n",
    "moleculewritefile = open(moleculeoutname, 'w')\n",
    "for ifreq in range(0, nfreq):\n",
    "    moleculewritefile.write(F'{natoms}\\n')\n",
    "    moleculewritefile.write(F'{molecule_name}\\tFrequency:\\t{frequencies[ifreq]}\\n')\n",
    "    for iatom in range(0, natoms):\n",
    "        moleculewritefile.write(F'{atomcoords[iatom][0]}\\t{atomcoords[iatom][2]}\\t{atomcoords[iatom][3]}\\t{atomcoords[iatom][4]}\\t')\n",
    "        moleculewritefile.write(F\"{freqcoords[ifreq][iatom]['x']}\\t{freqcoords[ifreq][iatom]['y']}\\t{freqcoords[ifreq][iatom]['z']}\\n\")\n",
    "       # moleculewritefile.write(str(freqcoords[ifreq][iatom]['x']))\n",
    "       # moleculewritefile.write(\"\\n\")\n",
    "moleculewritefile.close()\n"
   ]
  },
  {
   "cell_type": "code",
   "execution_count": null,
   "metadata": {},
   "outputs": [],
   "source": []
  }
 ],
 "metadata": {
  "kernelspec": {
   "display_name": "Python 3",
   "language": "python",
   "name": "python3"
  },
  "language_info": {
   "codemirror_mode": {
    "name": "ipython",
    "version": 3
   },
   "file_extension": ".py",
   "mimetype": "text/x-python",
   "name": "python",
   "nbconvert_exporter": "python",
   "pygments_lexer": "ipython3",
   "version": "3.7.6"
  }
 },
 "nbformat": 4,
 "nbformat_minor": 4
}
